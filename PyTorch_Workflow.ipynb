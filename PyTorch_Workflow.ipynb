{
  "nbformat": 4,
  "nbformat_minor": 0,
  "metadata": {
    "colab": {
      "provenance": [],
      "authorship_tag": "ABX9TyPeR1V/fy1oxEMm3RUtfD7j",
      "include_colab_link": true
    },
    "kernelspec": {
      "name": "python3",
      "display_name": "Python 3"
    },
    "language_info": {
      "name": "python"
    }
  },
  "cells": [
    {
      "cell_type": "markdown",
      "metadata": {
        "id": "view-in-github",
        "colab_type": "text"
      },
      "source": [
        "<a href=\"https://colab.research.google.com/github/GyaaniJ/pytorch-deep-learning/blob/Learning/PyTorch_Workflow.ipynb\" target=\"_parent\"><img src=\"https://colab.research.google.com/assets/colab-badge.svg\" alt=\"Open In Colab\"/></a>"
      ]
    },
    {
      "cell_type": "code",
      "source": [
        "import torch\n",
        "import pandas as pd\n",
        "import numpy as np\n",
        "import matplotlib.pyplot as plt\n",
        "print(torch.__version__)"
      ],
      "metadata": {
        "id": "RdFAVFLZpumu",
        "colab": {
          "base_uri": "https://localhost:8080/"
        },
        "outputId": "4bf42d5e-c54c-4c0d-efe3-3196648b5fdd"
      },
      "execution_count": null,
      "outputs": [
        {
          "output_type": "stream",
          "name": "stdout",
          "text": [
            "2.3.0+cu121\n"
          ]
        }
      ]
    },
    {
      "cell_type": "code",
      "source": [
        "scalar = torch.tensor(7)\n",
        "print(scalar)"
      ],
      "metadata": {
        "colab": {
          "base_uri": "https://localhost:8080/"
        },
        "id": "BM73X8pFDhs6",
        "outputId": "810ec8a7-77e2-4c75-8c75-3b9de13614d2"
      },
      "execution_count": null,
      "outputs": [
        {
          "output_type": "stream",
          "name": "stdout",
          "text": [
            "tensor(7)\n"
          ]
        }
      ]
    },
    {
      "cell_type": "code",
      "source": [
        "scalar.item()"
      ],
      "metadata": {
        "colab": {
          "base_uri": "https://localhost:8080/"
        },
        "id": "3TGK6ym_D19e",
        "outputId": "3347b933-b8e7-46ad-9c77-bea066ac0e34"
      },
      "execution_count": null,
      "outputs": [
        {
          "output_type": "execute_result",
          "data": {
            "text/plain": [
              "7"
            ]
          },
          "metadata": {},
          "execution_count": 3
        }
      ]
    },
    {
      "cell_type": "code",
      "source": [
        "vector = torch.tensor([[7,7]])\n",
        "vector"
      ],
      "metadata": {
        "colab": {
          "base_uri": "https://localhost:8080/"
        },
        "id": "IM6DnyHPEFsW",
        "outputId": "207440a5-3ac0-41c4-c0ed-63e1b846b0b8"
      },
      "execution_count": null,
      "outputs": [
        {
          "output_type": "execute_result",
          "data": {
            "text/plain": [
              "tensor([[7, 7]])"
            ]
          },
          "metadata": {},
          "execution_count": 18
        }
      ]
    },
    {
      "cell_type": "code",
      "source": [
        "vector.ndim"
      ],
      "metadata": {
        "colab": {
          "base_uri": "https://localhost:8080/"
        },
        "id": "_0bjH0HXEUP_",
        "outputId": "9e5c7964-950f-44c3-b4cd-02b3334f3193"
      },
      "execution_count": null,
      "outputs": [
        {
          "output_type": "execute_result",
          "data": {
            "text/plain": [
              "2"
            ]
          },
          "metadata": {},
          "execution_count": 19
        }
      ]
    },
    {
      "cell_type": "code",
      "source": [
        "matrix = torch.tensor([[[3,3]]])\n",
        "matrix.ndim\n",
        "matrix.shape"
      ],
      "metadata": {
        "colab": {
          "base_uri": "https://localhost:8080/"
        },
        "id": "gUwlJqLCLEvS",
        "outputId": "5aa62e3e-6c83-400a-8c80-959c43bd5c96"
      },
      "execution_count": null,
      "outputs": [
        {
          "output_type": "execute_result",
          "data": {
            "text/plain": [
              "torch.Size([1, 1, 2])"
            ]
          },
          "metadata": {},
          "execution_count": 21
        }
      ]
    },
    {
      "cell_type": "code",
      "source": [
        "matrix.ndim"
      ],
      "metadata": {
        "colab": {
          "base_uri": "https://localhost:8080/"
        },
        "id": "N9HR4PUcMqDs",
        "outputId": "99f1980f-4a6a-4ed3-d375-b1270f4c6fd9"
      },
      "execution_count": null,
      "outputs": [
        {
          "output_type": "execute_result",
          "data": {
            "text/plain": [
              "3"
            ]
          },
          "metadata": {},
          "execution_count": 23
        }
      ]
    },
    {
      "cell_type": "code",
      "source": [
        "print(torch.tensor)"
      ],
      "metadata": {
        "colab": {
          "base_uri": "https://localhost:8080/"
        },
        "id": "ACMQmHtdN9wH",
        "outputId": "e76c5520-5891-449c-d30a-9a139460b625"
      },
      "execution_count": null,
      "outputs": [
        {
          "output_type": "stream",
          "name": "stdout",
          "text": [
            "<built-in method tensor of type object at 0x7cb8fb081760>\n"
          ]
        }
      ]
    },
    {
      "cell_type": "markdown",
      "source": [
        "## random tensors\n"
      ],
      "metadata": {
        "id": "JVISyfY9QD1E"
      }
    },
    {
      "cell_type": "code",
      "source": [
        "random_tensor = torch.rand(3,4,4)"
      ],
      "metadata": {
        "id": "LcoDZ2V7Q9Tq"
      },
      "execution_count": null,
      "outputs": []
    },
    {
      "cell_type": "code",
      "source": [
        "print(random_tensor)"
      ],
      "metadata": {
        "colab": {
          "base_uri": "https://localhost:8080/"
        },
        "id": "eCPzQrtJTp10",
        "outputId": "278e1a35-f78e-45ab-b439-b0119370253c"
      },
      "execution_count": null,
      "outputs": [
        {
          "output_type": "stream",
          "name": "stdout",
          "text": [
            "tensor([[[0.0443, 0.2355, 0.8918, 0.6370],\n",
            "         [0.2828, 0.0758, 0.9330, 0.2932],\n",
            "         [0.8911, 0.0571, 0.8859, 0.2680],\n",
            "         [0.0267, 0.0864, 0.5586, 0.2052]],\n",
            "\n",
            "        [[0.9772, 0.2367, 0.2433, 0.9581],\n",
            "         [0.0123, 0.0169, 0.8054, 0.1302],\n",
            "         [0.8308, 0.7477, 0.5808, 0.5686],\n",
            "         [0.7518, 0.5181, 0.9131, 0.6576]],\n",
            "\n",
            "        [[0.5318, 0.4184, 0.1653, 0.8230],\n",
            "         [0.9276, 0.9409, 0.6686, 0.1682],\n",
            "         [0.9298, 0.5291, 0.8807, 0.7504],\n",
            "         [0.3706, 0.9467, 0.8501, 0.2355]]])\n"
          ]
        }
      ]
    },
    {
      "cell_type": "code",
      "source": [
        "random_tensor"
      ],
      "metadata": {
        "colab": {
          "base_uri": "https://localhost:8080/"
        },
        "id": "wpyxtEyZTs7i",
        "outputId": "78a0f71f-dac5-4e56-ca59-7a2dd3424084"
      },
      "execution_count": null,
      "outputs": [
        {
          "output_type": "execute_result",
          "data": {
            "text/plain": [
              "tensor([[[0.0443, 0.2355, 0.8918, 0.6370],\n",
              "         [0.2828, 0.0758, 0.9330, 0.2932],\n",
              "         [0.8911, 0.0571, 0.8859, 0.2680],\n",
              "         [0.0267, 0.0864, 0.5586, 0.2052]],\n",
              "\n",
              "        [[0.9772, 0.2367, 0.2433, 0.9581],\n",
              "         [0.0123, 0.0169, 0.8054, 0.1302],\n",
              "         [0.8308, 0.7477, 0.5808, 0.5686],\n",
              "         [0.7518, 0.5181, 0.9131, 0.6576]],\n",
              "\n",
              "        [[0.5318, 0.4184, 0.1653, 0.8230],\n",
              "         [0.9276, 0.9409, 0.6686, 0.1682],\n",
              "         [0.9298, 0.5291, 0.8807, 0.7504],\n",
              "         [0.3706, 0.9467, 0.8501, 0.2355]]])"
            ]
          },
          "metadata": {},
          "execution_count": 31
        }
      ]
    },
    {
      "cell_type": "code",
      "source": [
        "random_image_size = torch.rand(size=(224,224,3))\n",
        "random_image_size.shape"
      ],
      "metadata": {
        "colab": {
          "base_uri": "https://localhost:8080/"
        },
        "id": "9eMPxQ7GXVnq",
        "outputId": "4ceee6f0-73fc-4122-f8a3-74da5af453b4"
      },
      "execution_count": null,
      "outputs": [
        {
          "output_type": "execute_result",
          "data": {
            "text/plain": [
              "torch.Size([224, 224, 3])"
            ]
          },
          "metadata": {},
          "execution_count": 35
        }
      ]
    },
    {
      "cell_type": "code",
      "source": [
        "# randomtensor1 = torch.rand(224,224,3,4)\n",
        "# print(randomtensor1)"
      ],
      "metadata": {
        "id": "IcJKaHu8m7rO"
      },
      "execution_count": null,
      "outputs": []
    },
    {
      "cell_type": "markdown",
      "source": [
        "#create a tensor of all zeros"
      ],
      "metadata": {
        "id": "HnI_ofRrGPMZ"
      }
    },
    {
      "cell_type": "code",
      "source": [
        "zeros = torch.zeros(3,4)\n",
        "zeros"
      ],
      "metadata": {
        "colab": {
          "base_uri": "https://localhost:8080/"
        },
        "id": "EOHBZSmVG1VX",
        "outputId": "8c9c58c1-a2d2-4561-92a9-4fd140ee7465"
      },
      "execution_count": null,
      "outputs": [
        {
          "output_type": "execute_result",
          "data": {
            "text/plain": [
              "tensor([[0., 0., 0., 0.],\n",
              "        [0., 0., 0., 0.],\n",
              "        [0., 0., 0., 0.]])"
            ]
          },
          "metadata": {},
          "execution_count": 5
        }
      ]
    },
    {
      "cell_type": "code",
      "source": [
        "y = torch.ones(3,4)\n",
        "y"
      ],
      "metadata": {
        "colab": {
          "base_uri": "https://localhost:8080/"
        },
        "id": "jQMHm6LRG1TB",
        "outputId": "bc67223e-1bb4-476f-a11d-b301fdcd3033"
      },
      "execution_count": null,
      "outputs": [
        {
          "output_type": "execute_result",
          "data": {
            "text/plain": [
              "tensor([[1., 1., 1., 1.],\n",
              "        [1., 1., 1., 1.],\n",
              "        [1., 1., 1., 1.]])"
            ]
          },
          "metadata": {},
          "execution_count": 6
        }
      ]
    },
    {
      "cell_type": "code",
      "source": [
        "y.dtype"
      ],
      "metadata": {
        "colab": {
          "base_uri": "https://localhost:8080/"
        },
        "id": "TOqFetUhG1QL",
        "outputId": "8a65d234-1ab1-463c-c9ab-6bdf800c6332"
      },
      "execution_count": null,
      "outputs": [
        {
          "output_type": "execute_result",
          "data": {
            "text/plain": [
              "torch.float32"
            ]
          },
          "metadata": {},
          "execution_count": 9
        }
      ]
    },
    {
      "cell_type": "markdown",
      "source": [
        "# the default type is float32"
      ],
      "metadata": {
        "id": "9bxjY891G1N0"
      }
    },
    {
      "cell_type": "markdown",
      "source": [
        "### Creating a range of tensors and tensors like object"
      ],
      "metadata": {
        "id": "mjE1rniFG1JZ"
      }
    },
    {
      "cell_type": "code",
      "source": [
        "torch.arange(0,10)"
      ],
      "metadata": {
        "colab": {
          "base_uri": "https://localhost:8080/"
        },
        "id": "FsA83HQQG07o",
        "outputId": "6d0b357d-d69e-44c0-b630-fdde8c87c083"
      },
      "execution_count": null,
      "outputs": [
        {
          "output_type": "execute_result",
          "data": {
            "text/plain": [
              "tensor([0, 1, 2, 3, 4, 5, 6, 7, 8, 9])"
            ]
          },
          "metadata": {},
          "execution_count": 12
        }
      ]
    },
    {
      "cell_type": "code",
      "source": [
        "y1 = torch.arange(start = 3, end = 30, step = 2)"
      ],
      "metadata": {
        "id": "xCv0P9q8HvZO"
      },
      "execution_count": null,
      "outputs": []
    },
    {
      "cell_type": "code",
      "source": [
        "y1"
      ],
      "metadata": {
        "colab": {
          "base_uri": "https://localhost:8080/"
        },
        "id": "qtZKUiT7IbKc",
        "outputId": "db966622-73cb-4ff5-8db7-7e67a2b09b47"
      },
      "execution_count": null,
      "outputs": [
        {
          "output_type": "execute_result",
          "data": {
            "text/plain": [
              "tensor([ 3,  5,  7,  9, 11, 13, 15, 17, 19, 21, 23, 25, 27, 29])"
            ]
          },
          "metadata": {},
          "execution_count": 16
        }
      ]
    },
    {
      "cell_type": "code",
      "source": [
        "ten_zeros = torch.zeros_like(y1)\n",
        "ten_zeros\n",
        "ten_ones = torch.ones_like(y1)\n",
        "ten_ones"
      ],
      "metadata": {
        "colab": {
          "base_uri": "https://localhost:8080/"
        },
        "id": "Z_6NpnaCIcjM",
        "outputId": "fb7e5c85-4b01-4f93-cecf-0254245be556"
      },
      "execution_count": null,
      "outputs": [
        {
          "output_type": "execute_result",
          "data": {
            "text/plain": [
              "tensor([1, 1, 1, 1, 1, 1, 1, 1, 1, 1, 1, 1, 1, 1])"
            ]
          },
          "metadata": {},
          "execution_count": 19
        }
      ]
    },
    {
      "cell_type": "markdown",
      "source": [
        "## torch datatypes"
      ],
      "metadata": {
        "id": "LXCd4cT6I1_u"
      }
    },
    {
      "cell_type": "code",
      "source": [
        "data1 = torch.rand(size=(5,4,5))\n",
        "data2 = [3,4,5]"
      ],
      "metadata": {
        "id": "3MXeWi6XKMFM"
      },
      "execution_count": null,
      "outputs": []
    },
    {
      "cell_type": "markdown",
      "source": [],
      "metadata": {
        "id": "xq2ZHutUKnua"
      }
    },
    {
      "cell_type": "code",
      "source": [
        "float_32_tensor1 = torch.tensor(data= data2, dtype = None)\n",
        "float_32_tensor1"
      ],
      "metadata": {
        "colab": {
          "base_uri": "https://localhost:8080/"
        },
        "id": "XXugV-OaJN5d",
        "outputId": "11beb092-5908-4d0f-c649-daadf028fca4"
      },
      "execution_count": null,
      "outputs": [
        {
          "output_type": "execute_result",
          "data": {
            "text/plain": [
              "tensor([3, 4, 5])"
            ]
          },
          "metadata": {},
          "execution_count": 30
        }
      ]
    },
    {
      "cell_type": "code",
      "source": [
        "float_tensor1 = torch.tensor([3,5,6,7], dtype = torch.float32, requires_grad = True)\n",
        "float_tensor1.dtype"
      ],
      "metadata": {
        "colab": {
          "base_uri": "https://localhost:8080/"
        },
        "id": "bwOYK8cLJNzd",
        "outputId": "426abe0f-1605-4301-c60f-35cce50e36fe"
      },
      "execution_count": null,
      "outputs": [
        {
          "output_type": "execute_result",
          "data": {
            "text/plain": [
              "torch.float32"
            ]
          },
          "metadata": {},
          "execution_count": 39
        }
      ]
    },
    {
      "cell_type": "code",
      "source": [
        "y3 = torch.tensor([4,88,9], dtype = torch.float32)\n",
        "y3"
      ],
      "metadata": {
        "colab": {
          "base_uri": "https://localhost:8080/"
        },
        "id": "CzrdejgfK6B0",
        "outputId": "3e221805-5d03-4bc6-f332-21d6042d4135"
      },
      "execution_count": null,
      "outputs": [
        {
          "output_type": "execute_result",
          "data": {
            "text/plain": [
              "tensor([ 4., 88.,  9.])"
            ]
          },
          "metadata": {},
          "execution_count": 40
        }
      ]
    },
    {
      "cell_type": "markdown",
      "source": [
        "# Getting information"
      ],
      "metadata": {
        "id": "Qj5ZVSrhLbcG"
      }
    },
    {
      "cell_type": "code",
      "source": [
        "y3.dtype"
      ],
      "metadata": {
        "colab": {
          "base_uri": "https://localhost:8080/"
        },
        "id": "wf7vripmM1bf",
        "outputId": "9eba0725-8950-48e3-f6e0-30980bb35bcb"
      },
      "execution_count": null,
      "outputs": [
        {
          "output_type": "execute_result",
          "data": {
            "text/plain": [
              "torch.float32"
            ]
          },
          "metadata": {},
          "execution_count": 41
        }
      ]
    },
    {
      "cell_type": "code",
      "source": [
        "y3.shape"
      ],
      "metadata": {
        "colab": {
          "base_uri": "https://localhost:8080/"
        },
        "id": "WDeOGwa2M1Ym",
        "outputId": "877f541a-22fd-450f-ab43-ebafac2e7829"
      },
      "execution_count": null,
      "outputs": [
        {
          "output_type": "execute_result",
          "data": {
            "text/plain": [
              "torch.Size([3])"
            ]
          },
          "metadata": {},
          "execution_count": 42
        }
      ]
    },
    {
      "cell_type": "code",
      "source": [
        "y3.device"
      ],
      "metadata": {
        "colab": {
          "base_uri": "https://localhost:8080/"
        },
        "id": "ZTRE5Py_M1WQ",
        "outputId": "58893ecb-c31a-4323-9033-f00eaf710cc1"
      },
      "execution_count": null,
      "outputs": [
        {
          "output_type": "execute_result",
          "data": {
            "text/plain": [
              "device(type='cpu')"
            ]
          },
          "metadata": {},
          "execution_count": 43
        }
      ]
    },
    {
      "cell_type": "code",
      "source": [
        "print(f\"Datatype of y3 is {y3.dtype}\")"
      ],
      "metadata": {
        "colab": {
          "base_uri": "https://localhost:8080/"
        },
        "id": "HbnzcIDbM1T9",
        "outputId": "2cce920e-6a61-4c69-a868-33a1c24ccfc6"
      },
      "execution_count": null,
      "outputs": [
        {
          "output_type": "stream",
          "name": "stdout",
          "text": [
            "Datatype of y3 is torch.float32\n"
          ]
        }
      ]
    },
    {
      "cell_type": "code",
      "source": [
        "tensor1 = torch.tensor([1,2,3,4])\n",
        "tensor1 + 10"
      ],
      "metadata": {
        "colab": {
          "base_uri": "https://localhost:8080/"
        },
        "id": "WlBOqj-nM1Iv",
        "outputId": "f3b88772-d33f-4448-964e-877eec52d2a2"
      },
      "execution_count": null,
      "outputs": [
        {
          "output_type": "execute_result",
          "data": {
            "text/plain": [
              "tensor([11, 12, 13, 14])"
            ]
          },
          "metadata": {},
          "execution_count": 46
        }
      ]
    },
    {
      "cell_type": "code",
      "source": [
        "torch.add(tensor1,20)"
      ],
      "metadata": {
        "colab": {
          "base_uri": "https://localhost:8080/"
        },
        "id": "JX69YjcpM1F2",
        "outputId": "c0025f80-8c79-4b0e-ef13-a901c063bcd4"
      },
      "execution_count": null,
      "outputs": [
        {
          "output_type": "execute_result",
          "data": {
            "text/plain": [
              "tensor([21, 22, 23, 24])"
            ]
          },
          "metadata": {},
          "execution_count": 47
        }
      ]
    },
    {
      "cell_type": "code",
      "source": [
        "torch.mul(tensor1,10)"
      ],
      "metadata": {
        "colab": {
          "base_uri": "https://localhost:8080/"
        },
        "id": "Q2w9lRWnM1DR",
        "outputId": "5fc24095-ac22-4955-dec9-effc0d6353b3"
      },
      "execution_count": null,
      "outputs": [
        {
          "output_type": "execute_result",
          "data": {
            "text/plain": [
              "tensor([10, 20, 30, 40])"
            ]
          },
          "metadata": {},
          "execution_count": 50
        }
      ]
    },
    {
      "cell_type": "markdown",
      "source": [
        "# element wise multipation"
      ],
      "metadata": {
        "id": "MPNab6XUM1Aq"
      }
    },
    {
      "cell_type": "code",
      "source": [
        "print(tensor1 * tensor1)"
      ],
      "metadata": {
        "colab": {
          "base_uri": "https://localhost:8080/"
        },
        "id": "qMeCahLrM09z",
        "outputId": "d81472d0-d064-4c9f-c200-0bc61192e227"
      },
      "execution_count": null,
      "outputs": [
        {
          "output_type": "stream",
          "name": "stdout",
          "text": [
            "tensor([ 1,  4,  9, 16])\n"
          ]
        }
      ]
    },
    {
      "cell_type": "code",
      "source": [
        "print(tensor1.T)"
      ],
      "metadata": {
        "colab": {
          "base_uri": "https://localhost:8080/"
        },
        "id": "zxXZIRyiTuVT",
        "outputId": "cc138c88-3e9e-44d3-8d9d-38e135b7b8ca"
      },
      "execution_count": null,
      "outputs": [
        {
          "output_type": "stream",
          "name": "stdout",
          "text": [
            "tensor([1, 2, 3, 4])\n"
          ]
        }
      ]
    },
    {
      "cell_type": "code",
      "source": [
        "torch.matmul(tensor1.T, tensor1.T)\n"
      ],
      "metadata": {
        "colab": {
          "base_uri": "https://localhost:8080/"
        },
        "id": "zoBsvvUyM066",
        "outputId": "021b67eb-ee8b-4f98-8994-88c836f45db7"
      },
      "execution_count": null,
      "outputs": [
        {
          "output_type": "execute_result",
          "data": {
            "text/plain": [
              "tensor(30)"
            ]
          },
          "metadata": {},
          "execution_count": 55
        }
      ]
    },
    {
      "cell_type": "code",
      "source": [
        "x1 = torch.tensor([[1,2,3],[1,2,3]])\n",
        "x1.shape"
      ],
      "metadata": {
        "colab": {
          "base_uri": "https://localhost:8080/"
        },
        "id": "_yjwmYTYM047",
        "outputId": "88f34650-6272-4189-f98e-606ba72cc8db"
      },
      "execution_count": null,
      "outputs": [
        {
          "output_type": "execute_result",
          "data": {
            "text/plain": [
              "torch.Size([2, 3])"
            ]
          },
          "metadata": {},
          "execution_count": 57
        }
      ]
    },
    {
      "cell_type": "code",
      "source": [
        "x2 = torch.tensor([[1,2],[1,2],[1,2]])\n",
        "x2.shape"
      ],
      "metadata": {
        "colab": {
          "base_uri": "https://localhost:8080/"
        },
        "id": "Ez0E_xVNM00J",
        "outputId": "4cd31175-8050-48e8-aaed-238234655895"
      },
      "execution_count": null,
      "outputs": [
        {
          "output_type": "execute_result",
          "data": {
            "text/plain": [
              "torch.Size([3, 2])"
            ]
          },
          "metadata": {},
          "execution_count": 60
        }
      ]
    },
    {
      "cell_type": "code",
      "source": [
        "x1* x2.T"
      ],
      "metadata": {
        "colab": {
          "base_uri": "https://localhost:8080/"
        },
        "id": "S7NdmKqdVWlI",
        "outputId": "99731056-721c-469f-9ccb-f94c78009507"
      },
      "execution_count": null,
      "outputs": [
        {
          "output_type": "execute_result",
          "data": {
            "text/plain": [
              "tensor([[1, 2, 3],\n",
              "        [2, 4, 6]])"
            ]
          },
          "metadata": {},
          "execution_count": 65
        }
      ]
    },
    {
      "cell_type": "code",
      "source": [
        "torch.matmul(x1,x2)"
      ],
      "metadata": {
        "colab": {
          "base_uri": "https://localhost:8080/"
        },
        "id": "GbkdHC0YM0xj",
        "outputId": "c7975027-d297-439e-a8dd-f3bca1037de2"
      },
      "execution_count": null,
      "outputs": [
        {
          "output_type": "execute_result",
          "data": {
            "text/plain": [
              "tensor([[ 6, 12],\n",
              "        [ 6, 12]])"
            ]
          },
          "metadata": {},
          "execution_count": 63
        }
      ]
    },
    {
      "cell_type": "code",
      "source": [
        "y = torch.arange(11)\n",
        "y"
      ],
      "metadata": {
        "colab": {
          "base_uri": "https://localhost:8080/"
        },
        "id": "qwmyiJMhM0vM",
        "outputId": "8a5b47ce-ff75-4e3b-9f41-b7e9467d3b0f"
      },
      "execution_count": null,
      "outputs": [
        {
          "output_type": "execute_result",
          "data": {
            "text/plain": [
              "tensor([ 0,  1,  2,  3,  4,  5,  6,  7,  8,  9, 10])"
            ]
          },
          "metadata": {},
          "execution_count": 83
        }
      ]
    },
    {
      "cell_type": "code",
      "source": [
        "torch.mean(y.type(torch.float32))"
      ],
      "metadata": {
        "colab": {
          "base_uri": "https://localhost:8080/"
        },
        "id": "dX9XzODiM0s2",
        "outputId": "1e9f09f3-7e1d-4f72-91ff-5c6373736e89"
      },
      "execution_count": null,
      "outputs": [
        {
          "output_type": "execute_result",
          "data": {
            "text/plain": [
              "tensor(5.)"
            ]
          },
          "metadata": {},
          "execution_count": 69
        }
      ]
    },
    {
      "cell_type": "code",
      "source": [
        "y"
      ],
      "metadata": {
        "colab": {
          "base_uri": "https://localhost:8080/"
        },
        "id": "y2lvL4_yZqyI",
        "outputId": "609ce37a-9feb-48ab-ea52-e104ca6b6ae3"
      },
      "execution_count": null,
      "outputs": [
        {
          "output_type": "execute_result",
          "data": {
            "text/plain": [
              "tensor([ 0,  1,  2,  3,  4,  5,  6,  7,  8,  9, 10])"
            ]
          },
          "metadata": {},
          "execution_count": 84
        }
      ]
    },
    {
      "cell_type": "code",
      "source": [
        "y.argmax()"
      ],
      "metadata": {
        "colab": {
          "base_uri": "https://localhost:8080/"
        },
        "id": "sbBtaGP1M0qA",
        "outputId": "ac3d6a0e-aee5-4d89-b431-80c00d8bdfc5"
      },
      "execution_count": null,
      "outputs": [
        {
          "output_type": "execute_result",
          "data": {
            "text/plain": [
              "tensor(10)"
            ]
          },
          "metadata": {},
          "execution_count": 73
        }
      ]
    },
    {
      "cell_type": "code",
      "source": [
        "z = y.reshape(11,1)"
      ],
      "metadata": {
        "id": "bQ7W4JPrM0ns"
      },
      "execution_count": null,
      "outputs": []
    },
    {
      "cell_type": "code",
      "source": [
        "z[1]=2\n",
        "z\n"
      ],
      "metadata": {
        "colab": {
          "base_uri": "https://localhost:8080/"
        },
        "id": "2SUDPKyoM0c-",
        "outputId": "316b3766-96cb-4c12-c660-b489bf317780"
      },
      "execution_count": null,
      "outputs": [
        {
          "output_type": "execute_result",
          "data": {
            "text/plain": [
              "tensor([[ 0],\n",
              "        [ 2],\n",
              "        [ 2],\n",
              "        [ 3],\n",
              "        [ 4],\n",
              "        [ 5],\n",
              "        [ 6],\n",
              "        [ 7],\n",
              "        [ 8],\n",
              "        [ 9],\n",
              "        [10]])"
            ]
          },
          "metadata": {},
          "execution_count": 86
        }
      ]
    },
    {
      "cell_type": "code",
      "source": [
        "y"
      ],
      "metadata": {
        "colab": {
          "base_uri": "https://localhost:8080/"
        },
        "id": "Gt0wmoH5M0aX",
        "outputId": "41dbbe5a-9707-48c6-ad1f-c2eb6038f9c6"
      },
      "execution_count": null,
      "outputs": [
        {
          "output_type": "execute_result",
          "data": {
            "text/plain": [
              "tensor([ 0,  2,  2,  3,  4,  5,  6,  7,  8,  9, 10])"
            ]
          },
          "metadata": {},
          "execution_count": 87
        }
      ]
    },
    {
      "cell_type": "code",
      "source": [
        "tensor = torch.tensor([[1, 2, 3], [4, 5, 6]])\n",
        "print(\"Original tensor:\")\n",
        "print(tensor)\n",
        "print(\"Shape:\", tensor.shape)\n"
      ],
      "metadata": {
        "colab": {
          "base_uri": "https://localhost:8080/"
        },
        "id": "jt788eDXM0Vs",
        "outputId": "9ef4bd16-c8fe-47d2-944e-75b62d2ba735"
      },
      "execution_count": null,
      "outputs": [
        {
          "output_type": "stream",
          "name": "stdout",
          "text": [
            "Original tensor:\n",
            "tensor([[1, 2, 3],\n",
            "        [4, 5, 6]])\n",
            "Shape: torch.Size([2, 3])\n"
          ]
        }
      ]
    },
    {
      "cell_type": "code",
      "source": [
        "# Using view to reshape the tensor (shares memory)\n",
        "tensor_view = tensor.view(3, 2)\n",
        "print(\"\\nTensor after view (shares memory):\")\n",
        "print(tensor_view)\n",
        "print(\"Shape:\", tensor_view.shape)\n"
      ],
      "metadata": {
        "colab": {
          "base_uri": "https://localhost:8080/"
        },
        "id": "ghy_AEplM0A3",
        "outputId": "1f5cb945-a710-4858-8306-d1f648803c23"
      },
      "execution_count": null,
      "outputs": [
        {
          "output_type": "stream",
          "name": "stdout",
          "text": [
            "\n",
            "Tensor after view (shares memory):\n",
            "tensor([[1, 2],\n",
            "        [3, 4],\n",
            "        [5, 6]])\n",
            "Shape: torch.Size([3, 2])\n"
          ]
        }
      ]
    },
    {
      "cell_type": "code",
      "source": [
        "# Modify the view and check the original tensor\n",
        "tensor_view[0, 0] = 99\n",
        "print(\"\\nModified tensor view:\")\n",
        "print(tensor_view)\n",
        "print(\"Original tensor after modifying view:\")\n",
        "print(tensor)"
      ],
      "metadata": {
        "colab": {
          "base_uri": "https://localhost:8080/"
        },
        "id": "fkVbMdJDoUv7",
        "outputId": "38351ded-e4bb-4fc1-eccd-610b77d0e451"
      },
      "execution_count": null,
      "outputs": [
        {
          "output_type": "stream",
          "name": "stdout",
          "text": [
            "\n",
            "Modified tensor view:\n",
            "tensor([[99,  2],\n",
            "        [ 3,  4],\n",
            "        [ 5,  6]])\n",
            "Original tensor after modifying view:\n",
            "tensor([[99,  2,  3],\n",
            "        [ 4,  5,  6]])\n"
          ]
        }
      ]
    },
    {
      "cell_type": "code",
      "source": [
        "# Using reshape to reshape the tensor (shares memory if contiguous)\n",
        "tensor_reshape = tensor.reshape(3, 2)\n",
        "print(\"\\nTensor after reshape (shares memory if contiguous):\")\n",
        "print(tensor_reshape)\n",
        "print(\"Shape:\", tensor_reshape.shape)"
      ],
      "metadata": {
        "colab": {
          "base_uri": "https://localhost:8080/"
        },
        "id": "Voxl6pNWodaL",
        "outputId": "33acb04f-a2a9-41f6-987d-8227157d9f69"
      },
      "execution_count": null,
      "outputs": [
        {
          "output_type": "stream",
          "name": "stdout",
          "text": [
            "\n",
            "Tensor after reshape (shares memory if contiguous):\n",
            "tensor([[99,  2],\n",
            "        [ 3,  4],\n",
            "        [ 5,  6]])\n",
            "Shape: torch.Size([3, 2])\n"
          ]
        }
      ]
    },
    {
      "cell_type": "code",
      "source": [
        "# Modify the reshape and check the original tensor\n",
        "tensor_reshape[1, 0] = 88\n",
        "print(\"\\nModified tensor reshape:\")\n",
        "print(tensor_reshape)\n",
        "print(\"Original tensor after modifying reshape:\")\n",
        "print(tensor)"
      ],
      "metadata": {
        "colab": {
          "base_uri": "https://localhost:8080/"
        },
        "id": "ws4PCgSFovrw",
        "outputId": "9e1f5223-94e7-4561-b7c5-4e6e1b669041"
      },
      "execution_count": null,
      "outputs": [
        {
          "output_type": "stream",
          "name": "stdout",
          "text": [
            "\n",
            "Modified tensor reshape:\n",
            "tensor([[99,  2],\n",
            "        [88,  4],\n",
            "        [ 5,  6]])\n",
            "Original tensor after modifying reshape:\n",
            "tensor([[99,  2, 88],\n",
            "        [ 4,  5,  6]])\n"
          ]
        }
      ]
    },
    {
      "cell_type": "code",
      "source": [
        "# Create a non-contiguous tensor by transposing\n",
        "tensor_t = tensor.t()\n",
        "print(\"\\nTransposed tensor (non-contiguous):\")\n",
        "print(tensor_t)\n",
        "print(\"Shape:\", tensor_t.shape)\n",
        "print(\"Is contiguous:\", tensor_t.is_contiguous())"
      ],
      "metadata": {
        "colab": {
          "base_uri": "https://localhost:8080/"
        },
        "id": "Vdp8LDVFo4o7",
        "outputId": "afa29018-03db-41c7-824f-c2900473325c"
      },
      "execution_count": null,
      "outputs": [
        {
          "output_type": "stream",
          "name": "stdout",
          "text": [
            "\n",
            "Transposed tensor (non-contiguous):\n",
            "tensor([[99,  4],\n",
            "        [ 2,  5],\n",
            "        [88,  6]])\n",
            "Shape: torch.Size([3, 2])\n",
            "Is contiguous: False\n"
          ]
        }
      ]
    },
    {
      "cell_type": "code",
      "source": [
        "# Using reshape on a non-contiguous tensor (does not share memory)\n",
        "tensor_t_reshape = tensor_t.reshape(3, 2)\n",
        "print(\"\\nTensor after reshape on non-contiguous tensor (does not share memory):\")\n",
        "print(tensor_t_reshape)\n",
        "print(\"Shape:\", tensor_t_reshape.shape)"
      ],
      "metadata": {
        "colab": {
          "base_uri": "https://localhost:8080/"
        },
        "id": "KOG15EcfpCIF",
        "outputId": "11e2f256-56ac-4a86-9012-578e7faf1622"
      },
      "execution_count": null,
      "outputs": [
        {
          "output_type": "stream",
          "name": "stdout",
          "text": [
            "\n",
            "Tensor after reshape on non-contiguous tensor (does not share memory):\n",
            "tensor([[99,  4],\n",
            "        [ 2,  5],\n",
            "        [88,  6]])\n",
            "Shape: torch.Size([3, 2])\n"
          ]
        }
      ]
    },
    {
      "cell_type": "code",
      "source": [
        "# Modify the reshape and check the original tensor\n",
        "tensor_t_reshape[2, 0] = 77\n",
        "print(\"\\nModified tensor reshape on non-contiguous tensor:\")\n",
        "print(tensor_t_reshape)\n",
        "print(\"Original transposed tensor after modifying reshape:\")\n",
        "print(tensor_t)\n",
        "print(\"Original tensor after modifying reshape:\")\n",
        "print(tensor)"
      ],
      "metadata": {
        "colab": {
          "base_uri": "https://localhost:8080/"
        },
        "id": "StubKOutpIb3",
        "outputId": "80b596c1-a332-45da-cfd1-495316749cdd"
      },
      "execution_count": null,
      "outputs": [
        {
          "output_type": "stream",
          "name": "stdout",
          "text": [
            "\n",
            "Modified tensor reshape on non-contiguous tensor:\n",
            "tensor([[99,  4],\n",
            "        [ 2,  5],\n",
            "        [77,  6]])\n",
            "Original transposed tensor after modifying reshape:\n",
            "tensor([[99,  4],\n",
            "        [ 2,  5],\n",
            "        [77,  6]])\n",
            "Original tensor after modifying reshape:\n",
            "tensor([[99,  2, 77],\n",
            "        [ 4,  5,  6]])\n"
          ]
        }
      ]
    },
    {
      "cell_type": "code",
      "source": [
        "tensor = torch.tensor([[1, 2, 3], [4, 5, 6]])\n",
        "print(\"Original tensor:\")\n",
        "print(tensor)\n",
        "print(\"Shape:\", tensor.shape)\n",
        "print(\"Is contiguous:\", tensor.is_contiguous())"
      ],
      "metadata": {
        "colab": {
          "base_uri": "https://localhost:8080/"
        },
        "id": "qeCrLkNgp-EC",
        "outputId": "08366ca0-a095-4591-88f8-4fd6cf96a623"
      },
      "execution_count": null,
      "outputs": [
        {
          "output_type": "stream",
          "name": "stdout",
          "text": [
            "Original tensor:\n",
            "tensor([[1, 2, 3],\n",
            "        [4, 5, 6]])\n",
            "Shape: torch.Size([2, 3])\n",
            "Is contiguous: True\n"
          ]
        }
      ]
    },
    {
      "cell_type": "code",
      "source": [
        "reshaped_tensor = tensor.reshape(3, 2)\n",
        "print(\"\\nReshaped tensor (shares memory if contiguous):\")\n",
        "print(reshaped_tensor)\n",
        "print(\"Shape:\", reshaped_tensor.shape)\n",
        "print(\"Is contiguous:\", reshaped_tensor.is_contiguous())"
      ],
      "metadata": {
        "colab": {
          "base_uri": "https://localhost:8080/"
        },
        "id": "4j-HBZDQqb8R",
        "outputId": "d686931b-a0ae-45db-9371-4e8f66ddc713"
      },
      "execution_count": null,
      "outputs": [
        {
          "output_type": "stream",
          "name": "stdout",
          "text": [
            "\n",
            "Reshaped tensor (shares memory if contiguous):\n",
            "tensor([[1, 2],\n",
            "        [3, 4],\n",
            "        [5, 6]])\n",
            "Shape: torch.Size([3, 2])\n",
            "Is contiguous: True\n"
          ]
        }
      ]
    },
    {
      "cell_type": "code",
      "source": [
        "# Modify the reshaped tensor and check the original tensor\n",
        "reshaped_tensor[0, 0] = 99\n",
        "print(\"\\nModified reshaped tensor:\")\n",
        "print(reshaped_tensor)\n",
        "print(\"Original tensor after modifying reshaped tensor:\")\n",
        "print(tensor)"
      ],
      "metadata": {
        "colab": {
          "base_uri": "https://localhost:8080/"
        },
        "id": "FhmTebfbqhEh",
        "outputId": "f55c6063-4b06-4e9d-8411-bf9e37c6f78b"
      },
      "execution_count": null,
      "outputs": [
        {
          "output_type": "stream",
          "name": "stdout",
          "text": [
            "\n",
            "Modified reshaped tensor:\n",
            "tensor([[99,  2],\n",
            "        [ 3,  4],\n",
            "        [ 5,  6]])\n",
            "Original tensor after modifying reshaped tensor:\n",
            "tensor([[99,  2,  3],\n",
            "        [ 4,  5,  6]])\n"
          ]
        }
      ]
    },
    {
      "cell_type": "code",
      "source": [
        "# Create a non-contiguous tensor by transposing the original tensor\n",
        "non_contiguous_tensor = tensor.t()\n",
        "print(\"\\nTransposed tensor (non-contiguous):\")\n",
        "print(non_contiguous_tensor)\n",
        "print(\"Shape:\", non_contiguous_tensor.shape)\n",
        "print(\"Is contiguous:\", non_contiguous_tensor.is_contiguous())\n",
        "\n",
        "# Using reshape on a non-contiguous tensor (does not share memory)\n",
        "reshaped_non_contiguous_tensor = non_contiguous_tensor.reshape(3, 2)\n",
        "print(\"\\nReshaped non-contiguous tensor (does not share memory):\")\n",
        "print(reshaped_non_contiguous_tensor)\n",
        "print(\"Shape:\", reshaped_non_contiguous_tensor.shape)\n",
        "print(\"Is contiguous:\", reshaped_non_contiguous_tensor.is_contiguous())\n",
        "\n",
        "# Modify the reshaped non-contiguous tensor and check the original tensor\n",
        "reshaped_non_contiguous_tensor[0, 0] = 88\n",
        "print(\"\\nModified reshaped non-contiguous tensor:\")\n",
        "print(reshaped_non_contiguous_tensor)\n",
        "print(\"Transposed tensor after modifying reshaped tensor:\")\n",
        "print(non_contiguous_tensor)\n",
        "print(\"Original tensor after modifying reshaped tensor:\")\n",
        "print(tensor)\n"
      ],
      "metadata": {
        "colab": {
          "base_uri": "https://localhost:8080/"
        },
        "id": "Xd50qefcqsj0",
        "outputId": "f96a63be-e8d6-4b5f-d8e2-4c22235639f0"
      },
      "execution_count": null,
      "outputs": [
        {
          "output_type": "stream",
          "name": "stdout",
          "text": [
            "\n",
            "Transposed tensor (non-contiguous):\n",
            "tensor([[99,  4],\n",
            "        [ 2,  5],\n",
            "        [ 3,  6]])\n",
            "Shape: torch.Size([3, 2])\n",
            "Is contiguous: False\n",
            "\n",
            "Reshaped non-contiguous tensor (does not share memory):\n",
            "tensor([[99,  4],\n",
            "        [ 2,  5],\n",
            "        [ 3,  6]])\n",
            "Shape: torch.Size([3, 2])\n",
            "Is contiguous: False\n",
            "\n",
            "Modified reshaped non-contiguous tensor:\n",
            "tensor([[88,  4],\n",
            "        [ 2,  5],\n",
            "        [ 3,  6]])\n",
            "Transposed tensor after modifying reshaped tensor:\n",
            "tensor([[88,  4],\n",
            "        [ 2,  5],\n",
            "        [ 3,  6]])\n",
            "Original tensor after modifying reshaped tensor:\n",
            "tensor([[88,  2,  3],\n",
            "        [ 4,  5,  6]])\n"
          ]
        }
      ]
    },
    {
      "cell_type": "code",
      "source": [
        "x_reshaped = torch.tensor([[5,2,3,4,5,6,7,8,9]])"
      ],
      "metadata": {
        "id": "xR3Ufh-oq2Sr"
      },
      "execution_count": null,
      "outputs": []
    },
    {
      "cell_type": "code",
      "source": [
        "x_reshaped.shape"
      ],
      "metadata": {
        "colab": {
          "base_uri": "https://localhost:8080/"
        },
        "id": "yN7tb1_Rsbz0",
        "outputId": "63eca132-5759-45f5-d473-9cb41908acc2"
      },
      "execution_count": null,
      "outputs": [
        {
          "output_type": "execute_result",
          "data": {
            "text/plain": [
              "torch.Size([1, 9])"
            ]
          },
          "metadata": {},
          "execution_count": 15
        }
      ]
    },
    {
      "cell_type": "code",
      "source": [
        "y=x_reshaped.squeeze()"
      ],
      "metadata": {
        "id": "3okVfolbsbw8"
      },
      "execution_count": null,
      "outputs": []
    },
    {
      "cell_type": "code",
      "source": [
        "y.shape"
      ],
      "metadata": {
        "colab": {
          "base_uri": "https://localhost:8080/"
        },
        "id": "CJcs-Q8XsbuF",
        "outputId": "332b4743-b207-4ef5-c3b5-bdc6c080ab62"
      },
      "execution_count": null,
      "outputs": [
        {
          "output_type": "execute_result",
          "data": {
            "text/plain": [
              "torch.Size([9])"
            ]
          },
          "metadata": {},
          "execution_count": 19
        }
      ]
    },
    {
      "cell_type": "code",
      "source": [
        "x =torch.randn (2,3,5)\n",
        "x.size()\n",
        "torch.permute(x,(2,0,1)).size()"
      ],
      "metadata": {
        "colab": {
          "base_uri": "https://localhost:8080/"
        },
        "id": "63_rv32TsbrO",
        "outputId": "f0ef8282-933d-49e2-b336-87e0ed7ee3d5"
      },
      "execution_count": null,
      "outputs": [
        {
          "output_type": "execute_result",
          "data": {
            "text/plain": [
              "torch.Size([5, 2, 3])"
            ]
          },
          "metadata": {},
          "execution_count": 20
        }
      ]
    },
    {
      "cell_type": "code",
      "source": [
        "uniform_tensor = torch.rand(2,3)\n",
        "print(f'uniform_tensor: {uniform_tensor}')"
      ],
      "metadata": {
        "colab": {
          "base_uri": "https://localhost:8080/"
        },
        "id": "jziJD-QKsblO",
        "outputId": "438b26e9-5e30-4d60-9117-9a2108021267"
      },
      "execution_count": null,
      "outputs": [
        {
          "output_type": "stream",
          "name": "stdout",
          "text": [
            "uniform_tensor: tensor([[0.9641, 0.2673, 0.7357],\n",
            "        [0.6767, 0.4770, 0.1761]])\n"
          ]
        }
      ]
    },
    {
      "cell_type": "code",
      "source": [
        "normal_tensor = torch.randn(2,3)\n",
        "print(f'normal tensor: {normal_tensor}')"
      ],
      "metadata": {
        "colab": {
          "base_uri": "https://localhost:8080/"
        },
        "id": "SXTTP6-VsbiL",
        "outputId": "13ef643d-b38b-44d4-e33c-fde9195ed788"
      },
      "execution_count": null,
      "outputs": [
        {
          "output_type": "stream",
          "name": "stdout",
          "text": [
            "normal tensor: tensor([[ 0.5468,  1.3237,  0.9811],\n",
            "        [ 1.0580,  0.0272, -0.7472]])\n"
          ]
        }
      ]
    },
    {
      "cell_type": "code",
      "source": [
        "normal_tensor.mean(dim= 1)"
      ],
      "metadata": {
        "colab": {
          "base_uri": "https://localhost:8080/"
        },
        "id": "jSqKDrBgv623",
        "outputId": "cf7309f4-07e6-4494-c284-46908486acb8"
      },
      "execution_count": null,
      "outputs": [
        {
          "output_type": "execute_result",
          "data": {
            "text/plain": [
              "tensor([0.9505, 0.1126])"
            ]
          },
          "metadata": {},
          "execution_count": 31
        }
      ]
    },
    {
      "cell_type": "code",
      "source": [
        "uniform_tensor.mean(dim = 1)"
      ],
      "metadata": {
        "colab": {
          "base_uri": "https://localhost:8080/"
        },
        "id": "GeTbuE9bv_9N",
        "outputId": "a8f6c4b8-96f7-4473-9a51-5297f2135492"
      },
      "execution_count": null,
      "outputs": [
        {
          "output_type": "execute_result",
          "data": {
            "text/plain": [
              "tensor([0.6557, 0.4433])"
            ]
          },
          "metadata": {},
          "execution_count": 33
        }
      ]
    },
    {
      "cell_type": "code",
      "source": [
        "import torch\n",
        "\n",
        "# Generate a large tensor with random values from a normal distribution\n",
        "large_tensor = torch.randn(2,3)\n",
        "\n",
        "# Calculate the mean\n",
        "mean = large_tensor.mean()\n",
        "print(f\"Mean: {mean}\")\n",
        "\n",
        "# Calculate the standard deviation\n",
        "std_dev = large_tensor.std()\n",
        "print(f\"Standard Deviation: {std_dev}\")\n"
      ],
      "metadata": {
        "colab": {
          "base_uri": "https://localhost:8080/"
        },
        "id": "3kyf6k_vwCs9",
        "outputId": "4ecb1d14-bf62-4fa6-c5b5-960a69e30ee2"
      },
      "execution_count": null,
      "outputs": [
        {
          "output_type": "stream",
          "name": "stdout",
          "text": [
            "Mean: -0.23620356619358063\n",
            "Standard Deviation: 1.2462807893753052\n"
          ]
        }
      ]
    },
    {
      "cell_type": "code",
      "source": [
        "# Generate a tensor with shape (3, 4) using torch.randn\n",
        "random_tensor = torch.randn(3, 4)\n",
        "\n",
        "# Calculate the mean\n",
        "mean_value = random_tensor.mean()\n",
        "\n",
        "# Calculate the standard deviation\n",
        "std_value = random_tensor.std()\n",
        "\n",
        "# Print the tensor, mean, and standard deviation\n",
        "print(\"Generated Tensor:\")\n",
        "print(random_tensor)\n",
        "print(f\"\\nMean: {mean_value}\")\n",
        "print(f\"Standard Deviation: {std_value}\")\n"
      ],
      "metadata": {
        "colab": {
          "base_uri": "https://localhost:8080/"
        },
        "id": "R0XIAfo1x_lu",
        "outputId": "d4d93627-0057-4f4d-f335-114ba2c72d8b"
      },
      "execution_count": null,
      "outputs": [
        {
          "output_type": "stream",
          "name": "stdout",
          "text": [
            "Generated Tensor:\n",
            "tensor([[-0.3555, -0.1622,  0.4854, -0.4713],\n",
            "        [ 0.8638,  2.0376,  0.1966, -1.5566],\n",
            "        [ 0.5034,  0.0148, -1.3377,  1.4496]])\n",
            "\n",
            "Mean: 0.13898909091949463\n",
            "Standard Deviation: 1.039345383644104\n"
          ]
        }
      ]
    },
    {
      "cell_type": "code",
      "source": [
        "random_permute = print(random_tensor.permute(1,0).shape)"
      ],
      "metadata": {
        "colab": {
          "base_uri": "https://localhost:8080/"
        },
        "id": "8LKkOX9LxW4P",
        "outputId": "1d37cbe5-0435-4bab-9b0b-d25d6ebe6f66"
      },
      "execution_count": null,
      "outputs": [
        {
          "output_type": "stream",
          "name": "stdout",
          "text": [
            "torch.Size([4, 3])\n"
          ]
        }
      ]
    },
    {
      "cell_type": "code",
      "source": [
        "random_tensor[0,:]"
      ],
      "metadata": {
        "colab": {
          "base_uri": "https://localhost:8080/"
        },
        "id": "HPC_3M53xWwa",
        "outputId": "88276309-f573-4c70-b4fe-33e7c469f1f0"
      },
      "execution_count": null,
      "outputs": [
        {
          "output_type": "execute_result",
          "data": {
            "text/plain": [
              "tensor([-0.3555, -0.1622,  0.4854, -0.4713])"
            ]
          },
          "metadata": {},
          "execution_count": 44
        }
      ]
    },
    {
      "cell_type": "code",
      "source": [
        "import numpy as np"
      ],
      "metadata": {
        "id": "-BNCXaeexWrQ"
      },
      "execution_count": null,
      "outputs": []
    },
    {
      "cell_type": "code",
      "source": [
        "array = np.arange(1,8)\n",
        "tensor = torch.from_numpy(array)\n",
        "tensor.dtype"
      ],
      "metadata": {
        "colab": {
          "base_uri": "https://localhost:8080/"
        },
        "id": "GWtmydLmxWku",
        "outputId": "ce911e79-36a7-41ec-839b-a09b02e53fbc"
      },
      "execution_count": null,
      "outputs": [
        {
          "output_type": "execute_result",
          "data": {
            "text/plain": [
              "torch.int64"
            ]
          },
          "metadata": {},
          "execution_count": 46
        }
      ]
    },
    {
      "cell_type": "code",
      "source": [
        "numpy_array = tensor.numpy()"
      ],
      "metadata": {
        "id": "e5gGZnoixWdq"
      },
      "execution_count": null,
      "outputs": []
    },
    {
      "cell_type": "code",
      "source": [
        "import torch\n",
        "torch.cuda.is_available()"
      ],
      "metadata": {
        "colab": {
          "base_uri": "https://localhost:8080/"
        },
        "id": "y-BYxRO3xWaB",
        "outputId": "730e9473-8df6-4a1e-abe8-48bcfc788704"
      },
      "execution_count": null,
      "outputs": [
        {
          "output_type": "execute_result",
          "data": {
            "text/plain": [
              "False"
            ]
          },
          "metadata": {},
          "execution_count": 48
        }
      ]
    },
    {
      "cell_type": "code",
      "source": [],
      "metadata": {
        "id": "7Xz5xNAHxWWJ"
      },
      "execution_count": null,
      "outputs": []
    },
    {
      "cell_type": "code",
      "source": [],
      "metadata": {
        "id": "8HmDARdcxWP5"
      },
      "execution_count": null,
      "outputs": []
    },
    {
      "cell_type": "code",
      "source": [],
      "metadata": {
        "id": "VuFVf9fOxWIG"
      },
      "execution_count": null,
      "outputs": []
    },
    {
      "cell_type": "code",
      "source": [],
      "metadata": {
        "id": "uaIbui2a0Wqt"
      },
      "execution_count": null,
      "outputs": []
    },
    {
      "cell_type": "code",
      "source": [],
      "metadata": {
        "id": "RWV6Bfgu0WnD"
      },
      "execution_count": null,
      "outputs": []
    },
    {
      "cell_type": "code",
      "source": [],
      "metadata": {
        "id": "BNgyhqcw0Wkc"
      },
      "execution_count": null,
      "outputs": []
    },
    {
      "cell_type": "code",
      "source": [],
      "metadata": {
        "id": "cJXTo0b70Whl"
      },
      "execution_count": null,
      "outputs": []
    },
    {
      "cell_type": "code",
      "source": [],
      "metadata": {
        "id": "HqvTsAZX0We_"
      },
      "execution_count": null,
      "outputs": []
    },
    {
      "cell_type": "code",
      "source": [],
      "metadata": {
        "id": "POU-F2Ge0Wb4"
      },
      "execution_count": null,
      "outputs": []
    },
    {
      "cell_type": "code",
      "source": [],
      "metadata": {
        "id": "_soah3EC0WZA"
      },
      "execution_count": null,
      "outputs": []
    },
    {
      "cell_type": "code",
      "source": [],
      "metadata": {
        "id": "FSDjG5Fq0WVn"
      },
      "execution_count": null,
      "outputs": []
    },
    {
      "cell_type": "code",
      "source": [],
      "metadata": {
        "id": "L23bWn9F0WSw"
      },
      "execution_count": null,
      "outputs": []
    },
    {
      "cell_type": "code",
      "source": [],
      "metadata": {
        "id": "poMAWYCK0WQI"
      },
      "execution_count": null,
      "outputs": []
    },
    {
      "cell_type": "code",
      "source": [],
      "metadata": {
        "id": "3B8OaVfd0WNT"
      },
      "execution_count": null,
      "outputs": []
    },
    {
      "cell_type": "code",
      "source": [],
      "metadata": {
        "id": "0G1rA4iC0WKq"
      },
      "execution_count": null,
      "outputs": []
    },
    {
      "cell_type": "code",
      "source": [],
      "metadata": {
        "id": "X6l0ipYJ0WHz"
      },
      "execution_count": null,
      "outputs": []
    },
    {
      "cell_type": "code",
      "source": [],
      "metadata": {
        "id": "3lg9OpQO0WEr"
      },
      "execution_count": null,
      "outputs": []
    },
    {
      "cell_type": "code",
      "source": [],
      "metadata": {
        "id": "JnvPItNA0WCE"
      },
      "execution_count": null,
      "outputs": []
    },
    {
      "cell_type": "code",
      "source": [],
      "metadata": {
        "id": "U5b5ogsw0V-9"
      },
      "execution_count": null,
      "outputs": []
    },
    {
      "cell_type": "code",
      "source": [],
      "metadata": {
        "id": "-S_0QJKh0V8F"
      },
      "execution_count": null,
      "outputs": []
    },
    {
      "cell_type": "code",
      "source": [],
      "metadata": {
        "id": "jKrHYqiH0V5O"
      },
      "execution_count": null,
      "outputs": []
    },
    {
      "cell_type": "code",
      "source": [],
      "metadata": {
        "id": "kyR3UT1N0V2Y"
      },
      "execution_count": null,
      "outputs": []
    },
    {
      "cell_type": "code",
      "source": [],
      "metadata": {
        "id": "5ZZisO3E0Vzf"
      },
      "execution_count": null,
      "outputs": []
    },
    {
      "cell_type": "code",
      "source": [],
      "metadata": {
        "id": "MOfx8ZVT0VwY"
      },
      "execution_count": null,
      "outputs": []
    },
    {
      "cell_type": "code",
      "source": [],
      "metadata": {
        "id": "0kYii9HW0VtY"
      },
      "execution_count": null,
      "outputs": []
    },
    {
      "cell_type": "code",
      "source": [],
      "metadata": {
        "id": "X26hoxe10VqY"
      },
      "execution_count": null,
      "outputs": []
    },
    {
      "cell_type": "code",
      "source": [],
      "metadata": {
        "id": "rR5Jz2EA0Vnh"
      },
      "execution_count": null,
      "outputs": []
    },
    {
      "cell_type": "code",
      "source": [],
      "metadata": {
        "id": "n70HUh-90VkZ"
      },
      "execution_count": null,
      "outputs": []
    },
    {
      "cell_type": "code",
      "source": [],
      "metadata": {
        "id": "WYp-A1T30Vhy"
      },
      "execution_count": null,
      "outputs": []
    },
    {
      "cell_type": "code",
      "source": [],
      "metadata": {
        "id": "KzHP9mtb0Veq"
      },
      "execution_count": null,
      "outputs": []
    },
    {
      "cell_type": "code",
      "source": [],
      "metadata": {
        "id": "l3e2OCfq0VcD"
      },
      "execution_count": null,
      "outputs": []
    },
    {
      "cell_type": "code",
      "source": [],
      "metadata": {
        "id": "Z7FWtqzt0VZM"
      },
      "execution_count": null,
      "outputs": []
    },
    {
      "cell_type": "code",
      "source": [],
      "metadata": {
        "id": "KqPAPAWm0VWn"
      },
      "execution_count": null,
      "outputs": []
    },
    {
      "cell_type": "code",
      "source": [],
      "metadata": {
        "id": "WGi4i7p10VTu"
      },
      "execution_count": null,
      "outputs": []
    },
    {
      "cell_type": "code",
      "source": [],
      "metadata": {
        "id": "63yIk7Ap0VRI"
      },
      "execution_count": null,
      "outputs": []
    },
    {
      "cell_type": "code",
      "source": [],
      "metadata": {
        "id": "fVFSYvY90VOg"
      },
      "execution_count": null,
      "outputs": []
    },
    {
      "cell_type": "code",
      "source": [],
      "metadata": {
        "id": "FKpC6WLU0VLq"
      },
      "execution_count": null,
      "outputs": []
    },
    {
      "cell_type": "code",
      "source": [],
      "metadata": {
        "id": "LQM1Z6lz0VIz"
      },
      "execution_count": null,
      "outputs": []
    },
    {
      "cell_type": "code",
      "source": [],
      "metadata": {
        "id": "b-OLMWUT0VGO"
      },
      "execution_count": null,
      "outputs": []
    }
  ]
}